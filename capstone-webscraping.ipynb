{
 "cells": [
  {
   "cell_type": "markdown",
   "metadata": {},
   "source": [
    "# Peer-graded Assignment: Segmenting and Clustering Neighborhoods in Toronto\n",
    "\n"
   ]
  },
  {
   "cell_type": "markdown",
   "metadata": {},
   "source": [
    "For this assignment, you will be required to explore and cluster the neighborhoods in Toronto.\n",
    "1- Start by creating a new Notebook for this assignment.\n",
    "2- Use the Notebook to build the code to scrape the following Wikipedia page, https://en.wikipedia.org/wiki/List_of_postal_codes_of_Canada:_M, in order to obtain the data that is in the table of postal codes and to transform the data into a pandas dataframe\n",
    "\n",
    "Pre-processing¶ "
   ]
  },
  {
   "cell_type": "code",
   "execution_count": 1,
   "metadata": {},
   "outputs": [],
   "source": [
    "import pandas as pd\n",
    "import numpy as np\n",
    "from bs4 import BeautifulSoup\n",
    "import requests"
   ]
  },
  {
   "cell_type": "code",
   "execution_count": 2,
   "metadata": {},
   "outputs": [],
   "source": [
    "# getting data from internet\n",
    "wikipedia_link='https://en.wikipedia.org/wiki/List_of_postal_codes_of_Canada:_M'\n",
    "raw_wikipedia_page= requests.get(wikipedia_link).text\n",
    "\n",
    "# using beautiful soup to parse the HTML/XML codes.\n",
    "soup = BeautifulSoup(raw_wikipedia_page,'xml')\n",
    "#print(soup.prettify())"
   ]
  },
  {
   "cell_type": "markdown",
   "metadata": {},
   "source": [
    "# Processing-part-1: extracting raw table (from webpage)\n"
   ]
  },
  {
   "cell_type": "code",
   "execution_count": 4,
   "metadata": {},
   "outputs": [],
   "source": [
    " #extracting the raw table inside that webpage\n",
    "table = soup.find('table')\n",
    "\n",
    "Postcode      = []\n",
    "Borough       = []\n",
    "Neighbourhood = []\n",
    "\n",
    "# print(table)\n",
    "\n",
    "# extracting a clean form of the table\n",
    "for tr_cell in table.find_all('tr'):\n",
    "    \n",
    "    counter = 1\n",
    "    Postcode_var      = -1\n",
    "    Borough_var       = -1\n",
    "    Neighbourhood_var = -1\n",
    "    \n",
    "    for td_cell in tr_cell.find_all('td'):\n",
    "        if counter == 1: \n",
    "            Postcode_var = td_cell.text\n",
    "        if counter == 2: \n",
    "            Borough_var = td_cell.text\n",
    "            tag_a_Borough = td_cell.find('a')\n",
    "            \n",
    "        if counter == 3: \n",
    "            Neighbourhood_var = str(td_cell.text).strip()\n",
    "            tag_a_Neighbourhood = td_cell.find('a')\n",
    "            \n",
    "        counter +=1\n",
    "        \n",
    "    if (Postcode_var == 'Not assigned' or Borough_var == 'Not assigned' or Neighbourhood_var == 'Not assigned'): \n",
    "        continue\n",
    "    try:\n",
    "        if ((tag_a_Borough is None) or (tag_a_Neighbourhood is None)):\n",
    "            continue\n",
    "    except:\n",
    "        pass\n",
    "    if(Postcode_var == -1 or Borough_var == -1 or Neighbourhood_var == -1):\n",
    "        continue\n",
    "        \n",
    "    Postcode.append(Postcode_var)\n",
    "    Borough.append(Borough_var)\n",
    "    Neighbourhood.append(Neighbourhood_var)"
   ]
  },
  {
   "cell_type": "markdown",
   "metadata": {},
   "source": [
    "# part-2: integrating Postal codes with more than 1 neighbour\n"
   ]
  },
  {
   "cell_type": "code",
   "execution_count": 6,
   "metadata": {},
   "outputs": [
    {
     "name": "stdout",
     "output_type": "stream",
     "text": [
      "num of unique Postal codes: 77\n"
     ]
    }
   ],
   "source": [
    "unique_p = set(Postcode)\n",
    "print('num of unique Postal codes:', len(unique_p))\n",
    "Postcode_u      = []\n",
    "Borough_u       = []\n",
    "Neighbourhood_u = []\n",
    "\n",
    "\n",
    "for postcode_unique_element in unique_p:\n",
    "    p_var = ''; b_var = ''; n_var = ''; \n",
    "    for postcode_idx, postcode_element in enumerate(Postcode):\n",
    "        if postcode_unique_element == postcode_element:\n",
    "            p_var = postcode_element;\n",
    "            b_var = Borough[postcode_idx]\n",
    "            if n_var == '': \n",
    "                n_var = Neighbourhood[postcode_idx]\n",
    "            else:\n",
    "                n_var = n_var + ', ' + Neighbourhood[postcode_idx]\n",
    "    Postcode_u.append(p_var)\n",
    "    Borough_u.append(b_var)\n",
    "    Neighbourhood_u.append(n_var)\n",
    "\n"
   ]
  },
  {
   "cell_type": "markdown",
   "metadata": {},
   "source": [
    "# Post-processing: creating an appropriate Pandas Dataframe\n"
   ]
  },
  {
   "cell_type": "code",
   "execution_count": 7,
   "metadata": {},
   "outputs": [
    {
     "data": {
      "text/html": [
       "<div>\n",
       "<style scoped>\n",
       "    .dataframe tbody tr th:only-of-type {\n",
       "        vertical-align: middle;\n",
       "    }\n",
       "\n",
       "    .dataframe tbody tr th {\n",
       "        vertical-align: top;\n",
       "    }\n",
       "\n",
       "    .dataframe thead th {\n",
       "        text-align: right;\n",
       "    }\n",
       "</style>\n",
       "<table border=\"1\" class=\"dataframe\">\n",
       "  <thead>\n",
       "    <tr style=\"text-align: right;\">\n",
       "      <th></th>\n",
       "      <th>Postcode</th>\n",
       "      <th>Borough</th>\n",
       "      <th>Neighbourhood</th>\n",
       "    </tr>\n",
       "  </thead>\n",
       "  <tbody>\n",
       "    <tr>\n",
       "      <th>0</th>\n",
       "      <td>M5E</td>\n",
       "      <td>Downtown Toronto</td>\n",
       "      <td>Berczy Park</td>\n",
       "    </tr>\n",
       "    <tr>\n",
       "      <th>1</th>\n",
       "      <td>M4L</td>\n",
       "      <td>East Toronto</td>\n",
       "      <td>India Bazaar</td>\n",
       "    </tr>\n",
       "    <tr>\n",
       "      <th>2</th>\n",
       "      <td>M2M</td>\n",
       "      <td>North York</td>\n",
       "      <td>Newtonbrook, Willowdale</td>\n",
       "    </tr>\n",
       "    <tr>\n",
       "      <th>3</th>\n",
       "      <td>M3A</td>\n",
       "      <td>North York</td>\n",
       "      <td>Parkwoods</td>\n",
       "    </tr>\n",
       "    <tr>\n",
       "      <th>4</th>\n",
       "      <td>M5K</td>\n",
       "      <td>Downtown Toronto</td>\n",
       "      <td>Design Exchange, Toronto Dominion Centre</td>\n",
       "    </tr>\n",
       "    <tr>\n",
       "      <th>5</th>\n",
       "      <td>M4V</td>\n",
       "      <td>Central Toronto</td>\n",
       "      <td>Deer Park, Rathnelly, South Hill</td>\n",
       "    </tr>\n",
       "    <tr>\n",
       "      <th>6</th>\n",
       "      <td>M4H</td>\n",
       "      <td>East York</td>\n",
       "      <td>Thorncliffe Park</td>\n",
       "    </tr>\n",
       "    <tr>\n",
       "      <th>7</th>\n",
       "      <td>M4G</td>\n",
       "      <td>East York</td>\n",
       "      <td>Leaside</td>\n",
       "    </tr>\n",
       "    <tr>\n",
       "      <th>8</th>\n",
       "      <td>M8Y</td>\n",
       "      <td>Etobicoke</td>\n",
       "      <td>Humber Bay, Mimico NE, Old Mill South, The Que...</td>\n",
       "    </tr>\n",
       "    <tr>\n",
       "      <th>9</th>\n",
       "      <td>M5M</td>\n",
       "      <td>North York</td>\n",
       "      <td>Bedford Park</td>\n",
       "    </tr>\n",
       "    <tr>\n",
       "      <th>10</th>\n",
       "      <td>M9V</td>\n",
       "      <td>Etobicoke</td>\n",
       "      <td>Beaumond Heights, Jamestown, Mount Olive, Silv...</td>\n",
       "    </tr>\n",
       "    <tr>\n",
       "      <th>11</th>\n",
       "      <td>M9L</td>\n",
       "      <td>North York</td>\n",
       "      <td>Humber Summit</td>\n",
       "    </tr>\n",
       "    <tr>\n",
       "      <th>12</th>\n",
       "      <td>M4Y</td>\n",
       "      <td>Downtown Toronto</td>\n",
       "      <td>Church and Wellesley</td>\n",
       "    </tr>\n",
       "    <tr>\n",
       "      <th>13</th>\n",
       "      <td>M4B</td>\n",
       "      <td>East York</td>\n",
       "      <td>Woodbine Gardens, Parkview Hill</td>\n",
       "    </tr>\n",
       "  </tbody>\n",
       "</table>\n",
       "</div>"
      ],
      "text/plain": [
       "   Postcode           Borough  \\\n",
       "0       M5E  Downtown Toronto   \n",
       "1       M4L      East Toronto   \n",
       "2       M2M        North York   \n",
       "3       M3A        North York   \n",
       "4       M5K  Downtown Toronto   \n",
       "5       M4V   Central Toronto   \n",
       "6       M4H         East York   \n",
       "7       M4G         East York   \n",
       "8       M8Y         Etobicoke   \n",
       "9       M5M        North York   \n",
       "10      M9V         Etobicoke   \n",
       "11      M9L        North York   \n",
       "12      M4Y  Downtown Toronto   \n",
       "13      M4B         East York   \n",
       "\n",
       "                                        Neighbourhood  \n",
       "0                                         Berczy Park  \n",
       "1                                        India Bazaar  \n",
       "2                             Newtonbrook, Willowdale  \n",
       "3                                           Parkwoods  \n",
       "4            Design Exchange, Toronto Dominion Centre  \n",
       "5                    Deer Park, Rathnelly, South Hill  \n",
       "6                                    Thorncliffe Park  \n",
       "7                                             Leaside  \n",
       "8   Humber Bay, Mimico NE, Old Mill South, The Que...  \n",
       "9                                        Bedford Park  \n",
       "10  Beaumond Heights, Jamestown, Mount Olive, Silv...  \n",
       "11                                      Humber Summit  \n",
       "12                               Church and Wellesley  \n",
       "13                    Woodbine Gardens, Parkview Hill  "
      ]
     },
     "execution_count": 7,
     "metadata": {},
     "output_type": "execute_result"
    }
   ],
   "source": [
    "toronto_dict = {'Postcode':Postcode_u, 'Borough':Borough_u, 'Neighbourhood':Neighbourhood_u}\n",
    "df_toronto = pd.DataFrame.from_dict(toronto_dict)\n",
    "df_toronto.to_csv('toronto_part1.csv')\n",
    "df_toronto.head(14)"
   ]
  },
  {
   "cell_type": "code",
   "execution_count": 8,
   "metadata": {},
   "outputs": [
    {
     "data": {
      "text/plain": [
       "(77, 3)"
      ]
     },
     "execution_count": 8,
     "metadata": {},
     "output_type": "execute_result"
    }
   ],
   "source": [
    "\n",
    "df_toronto.shape"
   ]
  },
  {
   "cell_type": "code",
   "execution_count": null,
   "metadata": {},
   "outputs": [],
   "source": []
  }
 ],
 "metadata": {
  "kernelspec": {
   "display_name": "Python 3",
   "language": "python",
   "name": "python3"
  },
  "language_info": {
   "codemirror_mode": {
    "name": "ipython",
    "version": 3
   },
   "file_extension": ".py",
   "mimetype": "text/x-python",
   "name": "python",
   "nbconvert_exporter": "python",
   "pygments_lexer": "ipython3",
   "version": "3.6.5"
  }
 },
 "nbformat": 4,
 "nbformat_minor": 2
}
